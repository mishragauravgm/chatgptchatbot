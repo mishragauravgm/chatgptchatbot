{
  "nbformat": 4,
  "nbformat_minor": 0,
  "metadata": {
    "colab": {
      "provenance": [],
      "authorship_tag": "ABX9TyOVCGxoU9BNJAU4ew9ty+bQ",
      "include_colab_link": true
    },
    "kernelspec": {
      "name": "python3",
      "display_name": "Python 3"
    },
    "language_info": {
      "name": "python"
    }
  },
  "cells": [
    {
      "cell_type": "markdown",
      "metadata": {
        "id": "view-in-github",
        "colab_type": "text"
      },
      "source": [
        "<a href=\"https://colab.research.google.com/github/mishragauravgm/chatgptchatbot/blob/main/promptengineering.ipynb\" target=\"_parent\"><img src=\"https://colab.research.google.com/assets/colab-badge.svg\" alt=\"Open In Colab\"/></a>"
      ]
    },
    {
      "cell_type": "code",
      "execution_count": 3,
      "metadata": {
        "id": "e4ifgkJoKcMl",
        "colab": {
          "base_uri": "https://localhost:8080/"
        },
        "outputId": "6d6e219d-4e01-4e77-e581-2b9aa67acfee"
      },
      "outputs": [
        {
          "output_type": "stream",
          "name": "stdout",
          "text": [
            "Looking in indexes: https://pypi.org/simple, https://us-python.pkg.dev/colab-wheels/public/simple/\n",
            "Collecting openai\n",
            "  Downloading openai-0.27.8-py3-none-any.whl (73 kB)\n",
            "\u001b[2K     \u001b[90m━━━━━━━━━━━━━━━━━━━━━━━━━━━━━━━━━━━━━━━━\u001b[0m \u001b[32m73.6/73.6 kB\u001b[0m \u001b[31m7.5 MB/s\u001b[0m eta \u001b[36m0:00:00\u001b[0m\n",
            "\u001b[?25hRequirement already satisfied: requests>=2.20 in /usr/local/lib/python3.10/dist-packages (from openai) (2.27.1)\n",
            "Requirement already satisfied: tqdm in /usr/local/lib/python3.10/dist-packages (from openai) (4.65.0)\n",
            "Collecting aiohttp (from openai)\n",
            "  Downloading aiohttp-3.8.4-cp310-cp310-manylinux_2_17_x86_64.manylinux2014_x86_64.whl (1.0 MB)\n",
            "\u001b[2K     \u001b[90m━━━━━━━━━━━━━━━━━━━━━━━━━━━━━━━━━━━━━━━━\u001b[0m \u001b[32m1.0/1.0 MB\u001b[0m \u001b[31m54.2 MB/s\u001b[0m eta \u001b[36m0:00:00\u001b[0m\n",
            "\u001b[?25hRequirement already satisfied: urllib3<1.27,>=1.21.1 in /usr/local/lib/python3.10/dist-packages (from requests>=2.20->openai) (1.26.15)\n",
            "Requirement already satisfied: certifi>=2017.4.17 in /usr/local/lib/python3.10/dist-packages (from requests>=2.20->openai) (2022.12.7)\n",
            "Requirement already satisfied: charset-normalizer~=2.0.0 in /usr/local/lib/python3.10/dist-packages (from requests>=2.20->openai) (2.0.12)\n",
            "Requirement already satisfied: idna<4,>=2.5 in /usr/local/lib/python3.10/dist-packages (from requests>=2.20->openai) (3.4)\n",
            "Requirement already satisfied: attrs>=17.3.0 in /usr/local/lib/python3.10/dist-packages (from aiohttp->openai) (23.1.0)\n",
            "Collecting multidict<7.0,>=4.5 (from aiohttp->openai)\n",
            "  Downloading multidict-6.0.4-cp310-cp310-manylinux_2_17_x86_64.manylinux2014_x86_64.whl (114 kB)\n",
            "\u001b[2K     \u001b[90m━━━━━━━━━━━━━━━━━━━━━━━━━━━━━━━━━━━━━━\u001b[0m \u001b[32m114.5/114.5 kB\u001b[0m \u001b[31m15.1 MB/s\u001b[0m eta \u001b[36m0:00:00\u001b[0m\n",
            "\u001b[?25hCollecting async-timeout<5.0,>=4.0.0a3 (from aiohttp->openai)\n",
            "  Downloading async_timeout-4.0.2-py3-none-any.whl (5.8 kB)\n",
            "Collecting yarl<2.0,>=1.0 (from aiohttp->openai)\n",
            "  Downloading yarl-1.9.2-cp310-cp310-manylinux_2_17_x86_64.manylinux2014_x86_64.whl (268 kB)\n",
            "\u001b[2K     \u001b[90m━━━━━━━━━━━━━━━━━━━━━━━━━━━━━━━━━━━━━━\u001b[0m \u001b[32m268.8/268.8 kB\u001b[0m \u001b[31m15.7 MB/s\u001b[0m eta \u001b[36m0:00:00\u001b[0m\n",
            "\u001b[?25hCollecting frozenlist>=1.1.1 (from aiohttp->openai)\n",
            "  Downloading frozenlist-1.3.3-cp310-cp310-manylinux_2_5_x86_64.manylinux1_x86_64.manylinux_2_17_x86_64.manylinux2014_x86_64.whl (149 kB)\n",
            "\u001b[2K     \u001b[90m━━━━━━━━━━━━━━━━━━━━━━━━━━━━━━━━━━━━━━\u001b[0m \u001b[32m149.6/149.6 kB\u001b[0m \u001b[31m18.3 MB/s\u001b[0m eta \u001b[36m0:00:00\u001b[0m\n",
            "\u001b[?25hCollecting aiosignal>=1.1.2 (from aiohttp->openai)\n",
            "  Downloading aiosignal-1.3.1-py3-none-any.whl (7.6 kB)\n",
            "Installing collected packages: multidict, frozenlist, async-timeout, yarl, aiosignal, aiohttp, openai\n",
            "Successfully installed aiohttp-3.8.4 aiosignal-1.3.1 async-timeout-4.0.2 frozenlist-1.3.3 multidict-6.0.4 openai-0.27.8 yarl-1.9.2\n"
          ]
        }
      ],
      "source": [
        "!pip install openai\n",
        "import openai\n",
        "openai.api_key = \"\""
      ]
    },
    {
      "cell_type": "code",
      "source": [
        "def get_completion(prompt, model=\"gpt-3.5-turbo\"):\n",
        "    messages = [{\"role\": \"user\", \"content\": prompt}]\n",
        "    response = openai.ChatCompletion.create(\n",
        "        model=model,\n",
        "        messages=messages,\n",
        "        temperature=0, # this is the degree of randomness of the model's output\n",
        "    )\n",
        "    return response.choices[0].message[\"content\"]\n",
        "\n",
        "def get_completion_from_messages(messages, model=\"gpt-3.5-turbo\", temperature=0):\n",
        "    response = openai.ChatCompletion.create(\n",
        "        model=model,\n",
        "        messages=messages,\n",
        "        temperature=temperature, # this is the degree of randomness of the model's output\n",
        "    )\n",
        "#     print(str(response.choices[0].message))\n",
        "    return response.choices[0].message[\"content\"]"
      ],
      "metadata": {
        "id": "LIlK1KVWLJ0p"
      },
      "execution_count": null,
      "outputs": []
    },
    {
      "cell_type": "markdown",
      "source": [
        "# OrderBot\n",
        "We can automate the collection of user prompts and assistant responses to build a  OrderBot. The OrderBot will take orders at a pizza restaurant. "
      ],
      "metadata": {
        "id": "jucz3squlLkt"
      }
    },
    {
      "cell_type": "code",
      "source": [
        "def collect_messages(_):\n",
        "    prompt = inp.value_input\n",
        "    inp.value = ''\n",
        "    context.append({'role':'user', 'content':f\"{prompt}\"})\n",
        "    response = get_completion_from_messages(context) \n",
        "    context.append({'role':'assistant', 'content':f\"{response}\"})\n",
        "    panels.append(\n",
        "        pn.Row('User:', pn.pane.Markdown(prompt, width=600)))\n",
        "    panels.append(\n",
        "        pn.Row('Assistant:', pn.pane.Markdown(response, width=600, style={'background-color': '#F6F6F6'})))\n",
        " \n",
        "    return pn.Column(*panels)"
      ],
      "metadata": {
        "id": "zZ9v3jO8NewO"
      },
      "execution_count": 1,
      "outputs": []
    },
    {
      "cell_type": "code",
      "source": [
        "import panel as pn  # GUI\n",
        "pn.extension()\n",
        "\n",
        "panels = [] # collect display \n",
        "\n",
        "context = [ {'role':'system', 'content':\"\"\"\n",
        "You are OrderBot, an automated service to collect orders for a pizza restaurant. \\\n",
        "You first greet the customer, then collects the order, \\\n",
        "and then asks if it's a pickup or delivery. \\\n",
        "You wait to collect the entire order, then summarize it and check for a final \\\n",
        "time if the customer wants to add anything else. \\\n",
        "If it's a delivery, you ask for an address. \\\n",
        "Finally you collect the payment.\\\n",
        "Make sure to clarify all options, extras and sizes to uniquely \\\n",
        "identify the item from the menu.\\\n",
        "You respond in a short, very conversational friendly style. \\\n",
        "The menu includes \\\n",
        "pepperoni pizza  12.95, 10.00, 7.00 \\\n",
        "cheese pizza   10.95, 9.25, 6.50 \\\n",
        "eggplant pizza   11.95, 9.75, 6.75 \\\n",
        "fries 4.50, 3.50 \\\n",
        "greek salad 7.25 \\\n",
        "Toppings: \\\n",
        "extra cheese 2.00, \\\n",
        "mushrooms 1.50 \\\n",
        "sausage 3.00 \\\n",
        "canadian bacon 3.50 \\\n",
        "AI sauce 1.50 \\\n",
        "peppers 1.00 \\\n",
        "Drinks: \\\n",
        "coke 3.00, 2.00, 1.00 \\\n",
        "sprite 3.00, 2.00, 1.00 \\\n",
        "bottled water 5.00 \\\n",
        "\"\"\"} ]  # accumulate messages\n",
        "\n",
        "\n",
        "inp = pn.widgets.TextInput(value=\"Hi\", placeholder='Enter text here…')\n",
        "button_conversation = pn.widgets.Button(name=\"Chat!\")\n",
        "\n",
        "interactive_conversation = pn.bind(collect_messages, button_conversation)\n",
        "\n",
        "dashboard = pn.Column(\n",
        "    inp,\n",
        "    pn.Row(button_conversation),\n",
        "    pn.panel(interactive_conversation, loading_indicator=True, height=300),\n",
        ")\n",
        "\n",
        "dashboard"
      ],
      "metadata": {
        "id": "2EKtSIFANiEs"
      },
      "execution_count": null,
      "outputs": []
    },
    {
      "cell_type": "code",
      "source": [
        "messages =  context.copy()\n",
        "messages.append(\n",
        "{'role':'system', 'content':'create a json summary of the previous food order. Itemize the price for each item\\\n",
        " The fields should be 1) pizza, include size 2) list of toppings 3) list of drinks, include size   4) list of sides include size  5)total price '},    \n",
        ")\n",
        " #The fields should be 1) pizza, price 2) list of toppings 3) list of drinks, include size include price  4) list of sides include size include price, 5)total price '},    \n",
        "\n",
        "response = get_completion_from_messages(messages, temperature=0)\n",
        "print(response)"
      ],
      "metadata": {
        "id": "xLKiyFH7lXGO"
      },
      "execution_count": null,
      "outputs": []
    },
    {
      "cell_type": "markdown",
      "source": [
        "## Multilingual Chatbot"
      ],
      "metadata": {
        "id": "NplLoTUylZv-"
      }
    },
    {
      "cell_type": "code",
      "source": [
        "import panel as pn  # GUI\n",
        "pn.extension()\n",
        "\n",
        "panels = [] # collect display \n",
        "\n",
        "context = [ {'role':'system', 'content':\"\"\"\n",
        "You are a translator who will transliterate the text given and then transliterate it to English\"\"\"} ]  # accumulate messages\n",
        "\n",
        "\n",
        "inp = pn.widgets.TextInput(value=\"Hi\", placeholder='Enter text here…')\n",
        "button_conversation = pn.widgets.Button(name=\"Chat!\")\n",
        "\n",
        "interactive_conversation = pn.bind(collect_messages, button_conversation)\n",
        "\n",
        "dashboard = pn.Column(\n",
        "    inp,\n",
        "    pn.Row(button_conversation),\n",
        "    pn.panel(interactive_conversation, loading_indicator=True, height=300),\n",
        ")\n",
        "\n",
        "dashboard"
      ],
      "metadata": {
        "id": "krXo3XdclXhS"
      },
      "execution_count": null,
      "outputs": []
    },
    {
      "cell_type": "markdown",
      "source": [
        "## NU Sanskriti Helpdesk"
      ],
      "metadata": {
        "id": "Zh_fFKA4lfNu"
      }
    },
    {
      "cell_type": "code",
      "source": [
        "import panel as pn  # GUI\n",
        "pn.extension()\n",
        "\n",
        "panels = [] # collect display \n",
        "\n",
        "context = [ {'role':'system', 'content':\"\"\"\n",
        "You are a chatbot that will assist incoming Indian students coming to Northeastern University with the information that is present in www.nusanskriti.org. You should begin\\\n",
        "by first collecting their name, degree program, intake term, homecity in India, phone number and email. You can later export that info into json file. You need to help them navigate the Boston city and other crucial information that any\\\n",
        "new student might need. Here are the additional information that you can refer:\\\n",
        "I’m going to be new to Boston and to the USA. Are there any housing options that you can tell me about?\n",
        "On-campus housing is rare for international graduate students, which basically includes dormitories. They are just a stone’s throw from the university. Check the Northeastern On Campus housing website to find more details.\n",
        "\n",
        "Off-campus housing is a cheaper and more viable option that most graduate students go for. There are a lot of apartments available near the university which can be shared by students to reduce rent rates. However, this is Boston, so expect high rates for areas close to the university. As you go farther from the university, you can get houses at reduced rates, and you can utilize Boston’s various tram and bus lines to arrive at the university. It can cost you anything between $500-680 to share a room/hall spot in the areas close to the university, and around $800-1100 for a private room in the same areas. If there are areas offering a lower rent, chances are they might not be in safe locations, and you should check before deciding on an apartment.\n",
        "\n",
        "Popular choices for apartments –\n",
        "\n",
        "Westland Avenue\n",
        "Park Drive\n",
        "JVUE/Longwood Apartments\n",
        "Huntington Avenue (not South side)\n",
        "Mission Park\n",
        "Alston\n",
        "Brighton\n",
        "Heath Street\n",
        "Edgerly Road\n",
        "You can use the orange and green line trams to travel between places, and the silver line bus routes connect most of these areas easily.\n",
        "\n",
        "Where should I look for housing?\n",
        "Use WhatsApp groups as much as possible. The university also has an off-campus housing website where you can post your roommate profile and search for houses. Contact brokers for vacancies via online housing websites and use Zillow to find any apartments and avoid scams. Reach out to OCSS – Off Campus Housing Services to get your lease reviewed for free. So, if you have any problem with the landlord or the management or if you need clarifications with your lease or anything related to your housing, OCSS is there to help you for FREE!\n",
        "\n",
        "What kitchen items should I carry along?\n",
        "Most kitchen items are available at Target, Walmart, Dollar Tree, Amazon, and are inexpensive and durable. You can get a few kitchen items like spoons, plates, and a pressure cooker for your initial days of settling in until you buy the remaining items. Find the list below with absolutely necessary items – can be bought from Walmart\n",
        "\n",
        "Tava\n",
        "Kadhai\n",
        "Frying pan\n",
        "Spoons, ladles, forks\n",
        "Pressure cooker with extra gauges and valves\n",
        "Storage boxes, knife\n",
        "microwavable bowl or plate.\n",
        "Should I carry a laptop?\n",
        "You can carry a laptop, or you can buy one here for good deals. You can head over to BestBuy to find cheap deals on laptops. You can also make good use of Black Friday deals for laptops and other electronics.\n",
        "\n",
        "How do I get the money for my fees?\n",
        "You can open a bank account in Boston, and transfer money from India to pay your fees directly. Bank account opening details are listed as follows - All of these are just around the corner.(Either BoA/BofA or Santander. If you’re above 24 years old you need to maintain a large minimum balance in BoA and Chase, but there is no such rule for Santander. Chase opened a new branch near Northeastern and it is giving $100 for qualifying student checking accounts.\n",
        "Use the NUPay service to transfer your fees from India.\n",
        "How do I carry money to the USA?\n",
        "Traveler’s checks – The most common way of getting money to the USA is via checks\n",
        "Money Orders/Personal Checks – These have to be in US dollars, but it could take a while for the money to be credited to your account in the USA. It is not recommended, apart from a money order payable towards the university as fees.\n",
        "Forex cards/Travel currency cards – These can be issued by banks or travel agencies in India. HDFC has a Multicurrency Forex card, and SBI calls it the Vishwa Yatra card, and they are usually visa cards which act as debit cards. You can refill these cards in rupees with the correct conversion, and the dollars will be filled with the equivalent exchange rate.\n",
        "Cash – It is advisable to carry 500 dollars in cash, which can be deposited once you open a bank account. You will get a few checks and a debit card which can help you deposit the money.\n",
        "Can you expand on arriving to Boston and how to go from there?\n",
        "Connect to ‘BOSWifi’ or ‘LoganWifi’ after accepting the Terms of Service.\n",
        "Use Google Maps to find addresses of temporary locations, or your apartments. There will also be tram and bus routes that can take you to the expected route.\n",
        "You can use Lyft/Uber options to get to your destination.\n",
        "Find the map and schedule. Once you reach any T station you can speak to Massachusetts Bay Transport Authority(MBTA) transit ambassadors. They wear red tshirts.\n",
        "You need a Charlie card to use the public transport – these can be refilled at T stations, and you can use them to travel in trams and buses. You can get one made by speaking to an MBTA ambassador.\n",
        "Northeastern University participates in the MBTA semester pass program offered for the Fall and Spring Semesters. Students may receive an 11% discount on passes and must enroll through their myNortheastern portal. Passes are distributed by the Husky Card Office.\n",
        "What SIM cards can I use?\n",
        "You can use Ultra, AT&T, Verizon, or T-Mobile to start a mobile plan. If you have family connections or a friend with an SSN, you can get on an unlimited family plan for T-Mobile.\n",
        "\n",
        "Where do I buy winterwear?\n",
        "You can go to Burlington coat factory, which is at Assemly Square via the Orange line, or you can visit TJMaxx, which has many outlets. You can also visit Marshalls at Kenmore, or Primark and Macy’s in Downtown to find winterwear. Black Friday deals are widespread in downtown stores, so you should visit the outlets then.\n",
        "\n",
        "Where can I buy groceries?\n",
        "You can buy groceries at Trader Joe’s, Haymarket, Star Market, Target, Stop N Shop, Tropical Foods, CVS, and Whole Foods. For Indian groceries, visit College Convenience. You can also pitch in to get a Costco membership and obtain cheap groceries in bulk. Upload your receipts on Fetch rewards (application on App store) to obtain points and discounts on popular restaurants and brands.\n",
        "\n",
        "Are there any Husky discounts that I can avail of?\n",
        "Subscriptions\n",
        "\n",
        "Amazon Prime Student – (First 6 months free)\n",
        "Spotify + Hulu + Showtime ($4.99/month for all 3)\n",
        "Apple music ($4.99 a month)\n",
        "New York times ($1/ week)\n",
        "The Wall Street Journal (Free with NU Credentials)\n",
        "The Economist (discount with NU Credentials)\n",
        "Foreign Policy (discount with NU Credentials)\n",
        "HelloFresh (15% off)\n",
        "Software\n",
        "\n",
        "Adobe Creative Cloud (Free with Approved NU Credentials)\n",
        "Notion (Free Student Plan)\n",
        "Figma (Free Student Plan)\n",
        "Ableton Live (40% off)\n",
        "Ulysses (50% off)\n",
        "Movies\n",
        "\n",
        "AMC Theatres (discount varies by location)\n",
        "Cinemark (discount varies by location)\n",
        "Travel\n",
        "\n",
        "Amtrak (discount varies by location)\n",
        "Zipcar\n",
        "Penske (10% off moving truck rentals)\n",
        "Budget Truck Rental (20% off local moves and 15% one-way moves)\n",
        "Student Universe (discounted airfare)\"\"\"} ]  # accumulate messages\n",
        "\n",
        "\n",
        "inp = pn.widgets.TextInput(value=\"Hi\", placeholder='Enter text here…')\n",
        "button_conversation = pn.widgets.Button(name=\"Chat!\")\n",
        "\n",
        "interactive_conversation = pn.bind(collect_messages, button_conversation)\n",
        "\n",
        "dashboard = pn.Column(\n",
        "    inp,\n",
        "    pn.Row(button_conversation),\n",
        "    pn.panel(interactive_conversation, loading_indicator=True, height=300),\n",
        ")\n",
        "\n",
        "dashboard"
      ],
      "metadata": {
        "id": "l1fvVwdLldew"
      },
      "execution_count": null,
      "outputs": []
    },
    {
      "cell_type": "code",
      "source": [],
      "metadata": {
        "id": "MZYGZ-AspgHB"
      },
      "execution_count": null,
      "outputs": []
    },
    {
      "cell_type": "markdown",
      "source": [
        "Some part of the code is based on the deeplearning.ai course on Prompt Engineering [here](https://learn.deeplearning.ai/chatgpt-prompt-eng/)"
      ],
      "metadata": {
        "id": "js-WW-KXpgSb"
      }
    },
    {
      "cell_type": "code",
      "source": [],
      "metadata": {
        "id": "iR0VOESRppBW"
      },
      "execution_count": null,
      "outputs": []
    }
  ]
}
